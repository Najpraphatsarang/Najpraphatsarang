{
  "nbformat": 4,
  "nbformat_minor": 0,
  "metadata": {
    "colab": {
      "name": "Clone repository from Github.ipynb",
      "provenance": [],
      "authorship_tag": "ABX9TyMHNFpXw42ruLPjKVseYvPJ",
      "include_colab_link": true
    },
    "kernelspec": {
      "name": "python3",
      "display_name": "Python 3"
    },
    "language_info": {
      "name": "python"
    }
  },
  "cells": [
    {
      "cell_type": "markdown",
      "metadata": {
        "id": "view-in-github",
        "colab_type": "text"
      },
      "source": [
        "<a href=\"https://colab.research.google.com/github/Najpraphatsarang/cos3302/blob/main/Clone_repository_from_Github.ipynb\" target=\"_parent\"><img src=\"https://colab.research.google.com/assets/colab-badge.svg\" alt=\"Open In Colab\"/></a>"
      ]
    },
    {
      "cell_type": "markdown",
      "source": [
        "#Clone repository from Github"
      ],
      "metadata": {
        "id": "S5dD52O-RdcM"
      }
    },
    {
      "cell_type": "code",
      "execution_count": null,
      "metadata": {
        "id": "5IvplGRo9P5v"
      },
      "outputs": [],
      "source": [
        "#check git availability\n",
        "!git"
      ]
    },
    {
      "cell_type": "code",
      "source": [
        "#clone repository from Github\n",
        "!git clone https://github.com/keatChada/COS3302_week3_datafiles.git"
      ],
      "metadata": {
        "id": "Lh9m4hBL9aGz",
        "outputId": "deae2a27-db8b-42be-8db4-2c31beb96fd5",
        "colab": {
          "base_uri": "https://localhost:8080/"
        }
      },
      "execution_count": null,
      "outputs": [
        {
          "output_type": "stream",
          "name": "stdout",
          "text": [
            "Cloning into 'COS3302_week3_datafiles'...\n",
            "remote: Enumerating objects: 25, done.\u001b[K\n",
            "remote: Counting objects: 100% (25/25), done.\u001b[K\n",
            "remote: Compressing objects: 100% (23/23), done.\u001b[K\n",
            "remote: Total 25 (delta 7), reused 0 (delta 0), pack-reused 0\u001b[K\n",
            "Unpacking objects: 100% (25/25), done.\n"
          ]
        }
      ]
    },
    {
      "cell_type": "code",
      "source": [
        "!pwd"
      ],
      "metadata": {
        "id": "C2ZkOQTM9aIL",
        "outputId": "9e8c624a-6713-4161-8ab9-11863af524e5",
        "colab": {
          "base_uri": "https://localhost:8080/"
        }
      },
      "execution_count": null,
      "outputs": [
        {
          "output_type": "stream",
          "name": "stdout",
          "text": [
            "/content\n"
          ]
        }
      ]
    },
    {
      "cell_type": "code",
      "source": [
        "#mount myGdrive\n",
        "from google.colab import drive\n",
        "ROOT = \"/content/GDrive\"\n",
        "drive.mount(ROOT)"
      ],
      "metadata": {
        "colab": {
          "base_uri": "https://localhost:8080/"
        },
        "id": "X-m1-BrF9zW3",
        "outputId": "d8d35aef-a03c-4583-cae4-eea53b20cc00"
      },
      "execution_count": null,
      "outputs": [
        {
          "output_type": "stream",
          "name": "stdout",
          "text": [
            "Mounted at /content/GDrive\n"
          ]
        }
      ]
    },
    {
      "cell_type": "code",
      "source": [
        "Proj_Path = \"/content/GDrive/MyDrive/cos3302/cos3302_dada_files\""
      ],
      "metadata": {
        "id": "TbbI6rbA96fN"
      },
      "execution_count": null,
      "outputs": []
    },
    {
      "cell_type": "code",
      "source": [
        "!mkdir = \"{Proj_Path}\""
      ],
      "metadata": {
        "id": "NCaFylLK96gQ",
        "outputId": "e6c0da22-8294-411c-b78a-de894ddaa1f4",
        "colab": {
          "base_uri": "https://localhost:8080/"
        }
      },
      "execution_count": null,
      "outputs": [
        {
          "output_type": "stream",
          "name": "stdout",
          "text": [
            "mkdir: cannot create directory ‘/content/GDrive/MyDrive/cos3302/cos3302_dada_files’: File exists\n"
          ]
        }
      ]
    },
    {
      "cell_type": "code",
      "source": [
        "#move all files in content to myGrive\n",
        "!mv /content/COS3302_week3_datafiles/* \"{Proj_Path}\""
      ],
      "metadata": {
        "id": "Fiu-Ju7A-JIF"
      },
      "execution_count": null,
      "outputs": []
    }
  ]
}